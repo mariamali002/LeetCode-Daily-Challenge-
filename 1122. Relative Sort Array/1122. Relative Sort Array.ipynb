{
 "cells": [
  {
   "cell_type": "code",
   "execution_count": 1,
   "id": "300ad3ee-8424-47b9-9bf9-2611aa46637a",
   "metadata": {},
   "outputs": [],
   "source": [
    "class Solution(object):\n",
    "    def relativeSortArray(self, arr1, arr2):\n",
    "        \"\"\"\n",
    "        :type arr1: List[int]\n",
    "        :type arr2: List[int]\n",
    "        :rtype: List[int]\n",
    "        \"\"\"\n",
    "        from collections import Counter\n",
    "\n",
    "        count = Counter(arr1)\n",
    "        result =[]\n",
    "        for n in arr2:\n",
    "            result.extend([n] * count.pop(n))\n",
    "        remaining = sorted(count.elements())\n",
    "        result.extend(remaining)\n",
    "        return result\n",
    "\n",
    "    \n"
   ]
  },
  {
   "cell_type": "code",
   "execution_count": null,
   "id": "758da165-f38d-4ffb-a14a-d39d14a41440",
   "metadata": {},
   "outputs": [],
   "source": []
  }
 ],
 "metadata": {
  "kernelspec": {
   "display_name": "Python 3 (ipykernel)",
   "language": "python",
   "name": "python3"
  },
  "language_info": {
   "codemirror_mode": {
    "name": "ipython",
    "version": 3
   },
   "file_extension": ".py",
   "mimetype": "text/x-python",
   "name": "python",
   "nbconvert_exporter": "python",
   "pygments_lexer": "ipython3",
   "version": "3.9.0"
  }
 },
 "nbformat": 4,
 "nbformat_minor": 5
}
