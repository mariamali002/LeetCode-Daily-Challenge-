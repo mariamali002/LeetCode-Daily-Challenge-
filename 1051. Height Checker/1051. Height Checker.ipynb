{
 "cells": [
  {
   "cell_type": "code",
   "execution_count": 1,
   "id": "ad456de0-4bda-4ba5-8450-6bcae9b53100",
   "metadata": {},
   "outputs": [],
   "source": [
    "class Solution(object):\n",
    "    def heightChecker(self, heights):\n",
    "        \"\"\"\n",
    "        :type heights: List[int]\n",
    "        :rtype: int\n",
    "        \"\"\"\n",
    "        expected = sorted(heights)  # Create the expected sorted order\n",
    "        count = 0  # Initialize the count of indices that do not match\n",
    "\n",
    "        # Compare each element in heights with the corresponding element in expected\n",
    "        for i in range(len(heights)):\n",
    "            if heights[i] != expected[i]:\n",
    "                count += 1\n",
    "\n",
    "        return count"
   ]
  },
  {
   "cell_type": "code",
   "execution_count": null,
   "id": "124b2e1d-d06f-4595-825d-bf097caa22de",
   "metadata": {},
   "outputs": [],
   "source": []
  }
 ],
 "metadata": {
  "kernelspec": {
   "display_name": "Python 3 (ipykernel)",
   "language": "python",
   "name": "python3"
  },
  "language_info": {
   "codemirror_mode": {
    "name": "ipython",
    "version": 3
   },
   "file_extension": ".py",
   "mimetype": "text/x-python",
   "name": "python",
   "nbconvert_exporter": "python",
   "pygments_lexer": "ipython3",
   "version": "3.9.0"
  }
 },
 "nbformat": 4,
 "nbformat_minor": 5
}
