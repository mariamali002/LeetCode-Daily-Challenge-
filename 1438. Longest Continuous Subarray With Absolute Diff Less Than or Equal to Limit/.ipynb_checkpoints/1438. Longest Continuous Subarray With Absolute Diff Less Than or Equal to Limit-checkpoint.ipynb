{
 "cells": [
  {
   "cell_type": "code",
   "execution_count": 1,
   "id": "0b3e0901-6ca2-4c1a-9de2-acce75f3ad58",
   "metadata": {},
   "outputs": [],
   "source": [
    "class Solution(object):\n",
    "    def longestSubarray(self, nums, limit):\n",
    "        \"\"\"\n",
    "        :type nums: List[int]\n",
    "        :type limit: int\n",
    "        :rtype: int\n",
    "        \"\"\"\n",
    "        from collections import deque \n",
    "        maxx = deque()\n",
    "        minn = deque()\n",
    "        left = 0\n",
    "        result = 0\n",
    "        \n",
    "        for right in range(len(nums)):\n",
    "            while maxx and nums[maxx[-1]] <= nums[right]:\n",
    "                maxx.pop()\n",
    "            maxx.append(right)\n",
    "            while minn and nums[minn[-1]] >= nums[right]:\n",
    "                minn.pop()\n",
    "            minn.append(right)\n",
    "\n",
    "            while nums[maxx[0]] - nums[minn[0]] > limit:\n",
    "                left += 1\n",
    "\n",
    "                if maxx[0] < left:\n",
    "                    maxx.popleft()\n",
    "                if minn[0] < left:\n",
    "                    minn.popleft()\n",
    "            result = max(result, right - left + 1)\n",
    "        return result\n",
    "\n",
    "\n",
    "                \n",
    "            \n",
    "        \n"
   ]
  },
  {
   "cell_type": "code",
   "execution_count": null,
   "id": "e2e6bb2a-3e62-4d7e-ba09-8c551c14e7f4",
   "metadata": {},
   "outputs": [],
   "source": []
  }
 ],
 "metadata": {
  "kernelspec": {
   "display_name": "Python 3 (ipykernel)",
   "language": "python",
   "name": "python3"
  },
  "language_info": {
   "codemirror_mode": {
    "name": "ipython",
    "version": 3
   },
   "file_extension": ".py",
   "mimetype": "text/x-python",
   "name": "python",
   "nbconvert_exporter": "python",
   "pygments_lexer": "ipython3",
   "version": "3.9.0"
  }
 },
 "nbformat": 4,
 "nbformat_minor": 5
}
